{
 "cells": [
  {
   "cell_type": "code",
   "execution_count": null,
   "metadata": {
    "id": "EtT6QPPGL2-7"
   },
   "outputs": [],
   "source": []
  },
  {
   "cell_type": "markdown",
   "metadata": {
    "id": "c21OW4osL3hd"
   },
   "source": [
    "## 大規模SAアニーリングTYTANチュートリアル 2回目\n",
    "\n",
    "### シュミレイテッドアニーリング\n",
    "シュミレイテッドアニーリングは、量子アニーリングとは異なり、古典コンピュータでシュミレーションを行います。  \n",
    "量子アニーリングでは、実際の量子ビットとの相互作用が隣接する量子ビットに限られますが、シュミレイテッドアニーリングでは、すべてのビット変数が相互作用する状況で計算を行うことができます。  \n",
    "ただし、実際の量子ビットが持つ重ね合わせ(もつれも？)は使うことが出来ません。  \n",
    "\n",
    "### QUBO式\n",
    "シュミレイテッドアニーリングでは、QUBO式と呼ばれる、コスト関数と制約条件を合わせたものを用意します。このQUBO式が最小(極小)になる状態をシュミレイテッドアニーリングで求まります。\n",
    "  \n",
    "QUBO関数 = コスト関数 + 制約条件\n",
    "\n",
    "さらに、QUBO式は、2次式と呼ばれる下記の数式である必要があります。  \n",
    "\n",
    "$$\n",
    "QUBO = -\\sum_{i,j} w_{i,j} q_i q_j\n",
    "$$\n",
    "\n",
    "$w_{i,j}$は問題によって決まる、変数間の相互作用に対応します。  \n",
    "\n",
    "### コスト関数や制約条件の重み付け\n",
    "問題によっては、コスト関数や制約条件の重み付けを行う場合もあります。 \n",
    "コスト関数に多く重みを付けるとコストが小さくなるように働き、制約条件に多く重みを付けると、制約条件をより制約条件を満たすように働きます。  \n",
    "\n",
    "### 相互作用のシュミレーション\n",
    "\n",
    "\n",
    "### 大規模計算の例\n",
    "組合せ最適化問題の例題として巡回セールスマン問題(TSP問題)を上げます。  \n"
   ]
  },
  {
   "cell_type": "code",
   "execution_count": null,
   "metadata": {
    "id": "VFnJm0sEQZd7"
   },
   "outputs": [],
   "source": []
  }
 ],
 "metadata": {
  "colab": {
   "provenance": []
  },
  "kernelspec": {
   "display_name": "Python 3 (ipykernel)",
   "language": "python",
   "name": "python3"
  },
  "language_info": {
   "codemirror_mode": {
    "name": "ipython",
    "version": 3
   },
   "file_extension": ".py",
   "mimetype": "text/x-python",
   "name": "python",
   "nbconvert_exporter": "python",
   "pygments_lexer": "ipython3",
   "version": "3.9.12"
  }
 },
 "nbformat": 4,
 "nbformat_minor": 1
}
